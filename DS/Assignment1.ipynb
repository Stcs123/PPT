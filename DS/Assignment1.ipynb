{
  "nbformat": 4,
  "nbformat_minor": 0,
  "metadata": {
    "colab": {
      "provenance": [],
      "authorship_tag": "ABX9TyNJvdFb/N30TVWw8uEUTF+O",
      "include_colab_link": true
    },
    "kernelspec": {
      "name": "python3",
      "display_name": "Python 3"
    },
    "language_info": {
      "name": "python"
    }
  },
  "cells": [
    {
      "cell_type": "markdown",
      "metadata": {
        "id": "view-in-github",
        "colab_type": "text"
      },
      "source": [
        "<a href=\"https://colab.research.google.com/github/Stcs123/PPT/blob/main/DS/Assignment1.ipynb\" target=\"_parent\"><img src=\"https://colab.research.google.com/assets/colab-badge.svg\" alt=\"Open In Colab\"/></a>"
      ]
    },
    {
      "cell_type": "markdown",
      "source": [
        "\n",
        "1. Write a Python program to reverse a string without using any built-in string reversal functions.\n"
      ],
      "metadata": {
        "id": "lPiVGjF5sjOd"
      }
    },
    {
      "cell_type": "code",
      "execution_count": 1,
      "metadata": {
        "colab": {
          "base_uri": "https://localhost:8080/"
        },
        "id": "nbAZg6EXsLqp",
        "outputId": "18e50857-371e-4199-98e4-5bf281e08c0a"
      },
      "outputs": [
        {
          "output_type": "stream",
          "name": "stdout",
          "text": [
            "!dlroW ,olleH\n"
          ]
        }
      ],
      "source": [
        "def reverse_string(string):\n",
        "    reversed_string = string[::-1]\n",
        "    return reversed_string\n",
        "\n",
        "# Example usage:\n",
        "string = \"Hello, World!\"\n",
        "reversed_string = reverse_string(string)\n",
        "print(reversed_string)  # Output: \"!dlroW ,olleH\"\n"
      ]
    },
    {
      "cell_type": "markdown",
      "source": [
        "2. Implement a function to check if a given string is a palindrome.\n"
      ],
      "metadata": {
        "id": "8_CVcGtFs_kw"
      }
    },
    {
      "cell_type": "code",
      "source": [
        "def is_palindrome(string):\n",
        "    reversed_string = string[::-1]\n",
        "    if string == reversed_string:\n",
        "        return True\n",
        "    return False\n",
        "\n",
        "# Example usage:\n",
        "string = \"radar\"\n",
        "if is_palindrome(string):\n",
        "    print(f\"{string} is a palindrome.\")\n",
        "else:\n",
        "    print(f\"{string} is not a palindrome.\")\n"
      ],
      "metadata": {
        "colab": {
          "base_uri": "https://localhost:8080/"
        },
        "id": "aIti4Fo0swjy",
        "outputId": "db2dff3f-f4c7-4304-b5c0-90b79e91d55f"
      },
      "execution_count": 2,
      "outputs": [
        {
          "output_type": "stream",
          "name": "stdout",
          "text": [
            "radar is a palindrome.\n"
          ]
        }
      ]
    },
    {
      "cell_type": "markdown",
      "source": [
        "3. Write a program to find the largest element in a given list.\n"
      ],
      "metadata": {
        "id": "MEZPRpbwtREk"
      }
    },
    {
      "cell_type": "code",
      "source": [
        "def find_largest_element(lst):\n",
        "    largest = lst[0]\n",
        "    for num in lst:\n",
        "        if num > largest:\n",
        "            largest = num\n",
        "    return largest\n",
        "\n",
        "# Example usage:\n",
        "numbers = [5, 2, 9, 10, 4]\n",
        "largest_number = find_largest_element(numbers)\n",
        "print(f\"The largest number in the list is: {largest_number}\")\n"
      ],
      "metadata": {
        "colab": {
          "base_uri": "https://localhost:8080/"
        },
        "id": "N6tDRVx8tMNr",
        "outputId": "f71a267c-3dd8-4209-9921-be947df6db63"
      },
      "execution_count": 1,
      "outputs": [
        {
          "output_type": "stream",
          "name": "stdout",
          "text": [
            "The largest number in the list is: 10\n"
          ]
        }
      ]
    },
    {
      "cell_type": "markdown",
      "source": [
        "4. Implement a function to count the occurrence of each element in a list."
      ],
      "metadata": {
        "id": "HYZH_W9a_lNO"
      }
    },
    {
      "cell_type": "code",
      "source": [
        "def count_occurrences(lst):\n",
        "    occurrence_count = {}\n",
        "    for element in lst:\n",
        "        if element in occurrence_count:\n",
        "            occurrence_count[element] += 1\n",
        "        else:\n",
        "            occurrence_count[element] = 1\n",
        "    return occurrence_count\n",
        "\n",
        "# Example usage:\n",
        "numbers = [1, 2, 3, 2, 1, 3, 1, 1, 2]\n",
        "occurrences = count_occurrences(numbers)\n",
        "print(occurrences)  # Output: {1: 4, 2: 3, 3: 2}\n"
      ],
      "metadata": {
        "colab": {
          "base_uri": "https://localhost:8080/"
        },
        "id": "ra7qX6On_eZn",
        "outputId": "8424e7af-77d8-43f1-80dc-0f672d99204a"
      },
      "execution_count": 2,
      "outputs": [
        {
          "output_type": "stream",
          "name": "stdout",
          "text": [
            "{1: 4, 2: 3, 3: 2}\n"
          ]
        }
      ]
    },
    {
      "cell_type": "markdown",
      "source": [
        "5. Write a Python program to find the second largest number in a list.\n"
      ],
      "metadata": {
        "id": "1hrIcJtc_yub"
      }
    },
    {
      "cell_type": "code",
      "source": [
        "def find_second_largest(lst):\n",
        "    largest = float('-inf')\n",
        "    second_largest = float('-inf')\n",
        "    for num in lst:\n",
        "        if num > largest:\n",
        "            second_largest = largest\n",
        "            largest = num\n",
        "        elif num > second_largest and num != largest:\n",
        "            second_largest = num\n",
        "    return second_largest\n",
        "\n",
        "# Example usage:\n",
        "numbers = [5, 2, 9, 10, 4]\n",
        "second_largest_number = find_second_largest(numbers)\n",
        "print(f\"The second largest number in the list is: {second_largest_number}\")\n"
      ],
      "metadata": {
        "colab": {
          "base_uri": "https://localhost:8080/"
        },
        "id": "yx1MGZBh_tYF",
        "outputId": "586704d0-a39c-4212-8272-3439709d978b"
      },
      "execution_count": 3,
      "outputs": [
        {
          "output_type": "stream",
          "name": "stdout",
          "text": [
            "The second largest number in the list is: 9\n"
          ]
        }
      ]
    },
    {
      "cell_type": "code",
      "source": [
        "# or we can do\n",
        "def second_largest(lst):\n",
        "  lst.sort()\n",
        "  return lst[-2]\n",
        "\n",
        "# Example usage:\n",
        "numbers = [5, 2, 9, 10, 4]\n",
        "second_largest_number = second_largest(numbers)\n",
        "print(f\"The second largest number in the list is: {second_largest_number}\")\n"
      ],
      "metadata": {
        "colab": {
          "base_uri": "https://localhost:8080/"
        },
        "id": "wBgmmH3EABwI",
        "outputId": "fe5397c4-5e02-4d3e-d74a-80f90eb7cee5"
      },
      "execution_count": 4,
      "outputs": [
        {
          "output_type": "stream",
          "name": "stdout",
          "text": [
            "The second largest number in the list is: 9\n"
          ]
        }
      ]
    },
    {
      "cell_type": "markdown",
      "source": [
        "6. Implement a function to remove duplicate elements from a list."
      ],
      "metadata": {
        "id": "TLEnL2z1Cl9G"
      }
    },
    {
      "cell_type": "code",
      "source": [
        "def remove_duplicates(lst):\n",
        "    unique_list = list()\n",
        "    for element in lst:\n",
        "        if element not in unique_list:\n",
        "            unique_list.append(element)\n",
        "    return unique_list\n",
        "\n",
        "# Example usage:\n",
        "numbers = [1, 2, 3, 2, 1, 3, 1, 1, 2]\n",
        "unique_numbers = remove_duplicates(numbers)\n",
        "print(unique_numbers)  # Output: [1, 2, 3]\n"
      ],
      "metadata": {
        "colab": {
          "base_uri": "https://localhost:8080/"
        },
        "id": "jdiscHpUCe5t",
        "outputId": "c8d375c7-470c-4c36-b4f4-2dbb659bbe95"
      },
      "execution_count": 10,
      "outputs": [
        {
          "output_type": "stream",
          "name": "stdout",
          "text": [
            "[1, 2, 3]\n"
          ]
        }
      ]
    },
    {
      "cell_type": "markdown",
      "source": [
        "7. Write a program to calculate the factorial of a given number.\n"
      ],
      "metadata": {
        "id": "g-WVAkn0O6Y-"
      }
    },
    {
      "cell_type": "code",
      "source": [
        "def factorial(n):\n",
        "    if n == 0 or n == 1:\n",
        "        return 1\n",
        "    else:\n",
        "        return n * factorial(n - 1)\n",
        "\n",
        "# Example usage:\n",
        "number = 5\n",
        "factorial_result = factorial(number)\n",
        "print(f\"The factorial of {number} is: {factorial_result}\")\n"
      ],
      "metadata": {
        "colab": {
          "base_uri": "https://localhost:8080/"
        },
        "id": "rjSYpOXKCtvw",
        "outputId": "2ca1b207-3abb-4f9e-b004-84f057c9af66"
      },
      "execution_count": 11,
      "outputs": [
        {
          "output_type": "stream",
          "name": "stdout",
          "text": [
            "The factorial of 5 is: 120\n"
          ]
        }
      ]
    },
    {
      "cell_type": "markdown",
      "source": [
        "8. Implement a function to check if a given number is prime.\n"
      ],
      "metadata": {
        "id": "fGhwLbeYPEn7"
      }
    },
    {
      "cell_type": "code",
      "source": [
        "def is_prime(n):\n",
        "    if n <= 1:\n",
        "        return False\n",
        "    for i in range(2, int(n ** 0.5) + 1):\n",
        "        if n % i == 0:\n",
        "            return False\n",
        "    return True\n",
        "\n",
        "# Example usage:\n",
        "number = 17\n",
        "if is_prime(number):\n",
        "    print(f\"{number} is a prime number.\")\n",
        "else:\n",
        "    print(f\"{number} is not a prime number.\")\n"
      ],
      "metadata": {
        "colab": {
          "base_uri": "https://localhost:8080/"
        },
        "id": "6J4B6PKUPAtj",
        "outputId": "4d20d5cc-d917-4d89-a4f1-7b1332d73551"
      },
      "execution_count": 12,
      "outputs": [
        {
          "output_type": "stream",
          "name": "stdout",
          "text": [
            "17 is a prime number.\n"
          ]
        }
      ]
    },
    {
      "cell_type": "markdown",
      "source": [
        "9. Write a Python program to sort a list of integers in ascending order.\n"
      ],
      "metadata": {
        "id": "hmP60szZPGW7"
      }
    },
    {
      "cell_type": "code",
      "source": [
        "def sort_list(lst):\n",
        "    for i in range(len(lst)):\n",
        "        for j in range(i + 1, len(lst)):\n",
        "            if lst[i] > lst[j]:\n",
        "                lst[i], lst[j] = lst[j], lst[i]\n",
        "    return lst\n",
        "\n",
        "# Example usage:\n",
        "numbers = [5, 2, 9, 10, 4]\n",
        "sorted_numbers = sort_list(numbers)\n",
        "print(f\"The sorted list is: {sorted_numbers}\")\n"
      ],
      "metadata": {
        "colab": {
          "base_uri": "https://localhost:8080/"
        },
        "id": "Tgm7QUiKPISw",
        "outputId": "206ae541-e593-4809-a7e2-bf06e6a2b14a"
      },
      "execution_count": 13,
      "outputs": [
        {
          "output_type": "stream",
          "name": "stdout",
          "text": [
            "The sorted list is: [2, 4, 5, 9, 10]\n"
          ]
        }
      ]
    },
    {
      "cell_type": "markdown",
      "source": [
        "10. Implement a function to find the sum of all numbers in a list.\n"
      ],
      "metadata": {
        "id": "il1qVSXPPIuH"
      }
    },
    {
      "cell_type": "code",
      "source": [
        "def find_sum(lst):\n",
        "    total = 0\n",
        "    for num in lst:\n",
        "        total += num\n",
        "    return total\n",
        "\n",
        "# Example usage:\n",
        "numbers = [1, 2, 3, 4, 5]\n",
        "sum_of_numbers = find_sum(numbers)\n",
        "print(f\"The sum of numbers is: {sum_of_numbers}\")\n"
      ],
      "metadata": {
        "colab": {
          "base_uri": "https://localhost:8080/"
        },
        "id": "Y4Ydu-IwPKef",
        "outputId": "718ed064-0e2f-4e2d-dd03-23aeb148121c"
      },
      "execution_count": 14,
      "outputs": [
        {
          "output_type": "stream",
          "name": "stdout",
          "text": [
            "The sum of numbers is: 15\n"
          ]
        }
      ]
    },
    {
      "cell_type": "markdown",
      "source": [
        "11. Write a program to find the common elements between two lists.\n"
      ],
      "metadata": {
        "id": "4A-6AEQNPLYz"
      }
    },
    {
      "cell_type": "code",
      "source": [
        "def find_common_elements(list1, list2):\n",
        "    common_elements = []\n",
        "    for element in list1:\n",
        "        if element in list2 and element not in common_elements:\n",
        "            common_elements.append(element)\n",
        "    return common_elements\n",
        "\n",
        "# Example usage:\n",
        "list1 = [1, 2, 3, 4, 5]\n",
        "list2 = [4, 5, 6, 7, 8]\n",
        "common_elements = find_common_elements(list1, list2)\n",
        "print(f\"The common elements are: {common_elements}\")\n"
      ],
      "metadata": {
        "colab": {
          "base_uri": "https://localhost:8080/"
        },
        "id": "XGwJDBtjPNIf",
        "outputId": "c4b908d9-eef4-49b8-da1b-e2d4218aa3d6"
      },
      "execution_count": 15,
      "outputs": [
        {
          "output_type": "stream",
          "name": "stdout",
          "text": [
            "The common elements are: [4, 5]\n"
          ]
        }
      ]
    },
    {
      "cell_type": "markdown",
      "source": [
        "12. Implement a function to check if a given string is an anagram of another string."
      ],
      "metadata": {
        "id": "qMf-WEo5PO8t"
      }
    },
    {
      "cell_type": "code",
      "source": [
        "def is_anagram(str1, str2):\n",
        "    str1 = str1.lower()\n",
        "    str2 = str2.lower()\n",
        "    return sorted(str1) == sorted(str2)\n",
        "\n",
        "# Example usage:\n",
        "string1 = \"listen\"\n",
        "string2 = \"silent\"\n",
        "if is_anagram(string1, string2):\n",
        "    print(f\"{string1} and {string2} are anagrams.\")\n",
        "else:\n",
        "    print(f\"{string1} and {string2} are not anagrams.\")\n"
      ],
      "metadata": {
        "colab": {
          "base_uri": "https://localhost:8080/"
        },
        "id": "vQQHUIPVPPeh",
        "outputId": "3dd0a037-c1a4-4f23-d2c8-e238b45b7506"
      },
      "execution_count": 16,
      "outputs": [
        {
          "output_type": "stream",
          "name": "stdout",
          "text": [
            "listen and silent are anagrams.\n"
          ]
        }
      ]
    },
    {
      "cell_type": "markdown",
      "source": [
        "13. Write a Python program to generate all permutations of a given string.\n"
      ],
      "metadata": {
        "id": "w5afdQAqPQGx"
      }
    },
    {
      "cell_type": "code",
      "source": [
        "def permutations(string):\n",
        "    if len(string) == 1:\n",
        "        return [string]\n",
        "    perms = []\n",
        "    for i in range(len(string)):\n",
        "        char = string[i]\n",
        "        remaining = string[:i] + string[i+1:]\n",
        "        for perm in permutations(remaining):\n",
        "            perms.append(char + perm)\n",
        "    return perms\n",
        "\n",
        "# Example usage:\n",
        "string = \"abc\"\n",
        "string_permutations = permutations(string)\n",
        "print(f\"The permutations of {string} are: {string_permutations}\")\n"
      ],
      "metadata": {
        "colab": {
          "base_uri": "https://localhost:8080/"
        },
        "id": "FNH0z03FPR5T",
        "outputId": "dba86c21-7846-47cc-e072-339874ea21fb"
      },
      "execution_count": 19,
      "outputs": [
        {
          "output_type": "stream",
          "name": "stdout",
          "text": [
            "The permutations of abc are: ['abc', 'acb', 'bac', 'bca', 'cab', 'cba']\n"
          ]
        }
      ]
    },
    {
      "cell_type": "markdown",
      "source": [
        "14. Implement a function to calculate the Fibonacci sequence up to a given number of terms."
      ],
      "metadata": {
        "id": "dT1PvtZIPT5U"
      }
    },
    {
      "cell_type": "code",
      "source": [
        "def fibonacci(n):\n",
        "    sequence = [0, 1]\n",
        "    for i in range(2, n):\n",
        "        sequence.append(sequence[i-1] + sequence[i-2])\n",
        "    return sequence\n",
        "\n",
        "# Example usage:\n",
        "terms = 10\n",
        "fibonacci_sequence = fibonacci(terms)\n",
        "print(f\"The Fibonacci sequence up to {terms} terms is: {fibonacci_sequence}\")\n"
      ],
      "metadata": {
        "colab": {
          "base_uri": "https://localhost:8080/"
        },
        "id": "fpUY6GRNPUcE",
        "outputId": "c05aa854-611d-49bb-b5a1-6e36b45f0c7f"
      },
      "execution_count": 22,
      "outputs": [
        {
          "output_type": "stream",
          "name": "stdout",
          "text": [
            "The Fibonacci sequence up to 10 terms is: [0, 1, 1, 2, 3, 5, 8, 13, 21, 34]\n"
          ]
        }
      ]
    },
    {
      "cell_type": "markdown",
      "source": [
        "15. Write a program to find the median of a list of numbers.\n"
      ],
      "metadata": {
        "id": "i1_oKJTxPWkT"
      }
    },
    {
      "cell_type": "code",
      "source": [
        "def find_median(lst):\n",
        "    sorted_list = sorted(lst)\n",
        "    length = len(sorted_list)\n",
        "    if length % 2 == 0:\n",
        "        mid1 = sorted_list[length//2]\n",
        "        mid2 = sorted_list[length//2 - 1]\n",
        "        median = (mid1 + mid2) / 2\n",
        "    else:\n",
        "        median = sorted_list[length//2]\n",
        "    return median\n",
        "\n",
        "# Example usage:\n",
        "numbers = [5, 2, 9, 10, 4]\n",
        "median = find_median(numbers)\n",
        "print(f\"The median of the list is: {median}\")\n"
      ],
      "metadata": {
        "colab": {
          "base_uri": "https://localhost:8080/"
        },
        "id": "KBDL-pw2PXAM",
        "outputId": "e79215ec-91c4-4c23-f96a-5afc2c55088f"
      },
      "execution_count": 23,
      "outputs": [
        {
          "output_type": "stream",
          "name": "stdout",
          "text": [
            "The median of the list is: 5\n"
          ]
        }
      ]
    },
    {
      "cell_type": "markdown",
      "source": [
        "16. Implement a function to check if a given list is sorted in non-decreasing order.\n"
      ],
      "metadata": {
        "id": "bAOhQyofPZtX"
      }
    },
    {
      "cell_type": "code",
      "source": [
        "def is_sorted(lst):\n",
        "    return all(lst[i] <= lst[i+1] for i in range(len(lst)-1))\n",
        "\n",
        "# Example usage:\n",
        "numbers1 = [1, 2, 3, 4, 5]\n",
        "numbers2 = [5, 4, 3, 2, 1]\n",
        "if is_sorted(numbers1):\n",
        "    print(\"numbers1 is sorted in non-decreasing order.\")\n",
        "else:\n",
        "    print(\"numbers1 is not sorted in non-decreasing order.\")\n",
        "\n",
        "if is_sorted(numbers2):\n",
        "    print(\"numbers2 is sorted in non-decreasing order.\")\n",
        "else:\n",
        "    print(\"numbers2 is not sorted in non-decreasing order.\")\n"
      ],
      "metadata": {
        "colab": {
          "base_uri": "https://localhost:8080/"
        },
        "id": "PxpEwTWLPaKf",
        "outputId": "98d319d5-bd23-415e-8598-104ca298a5ad"
      },
      "execution_count": 24,
      "outputs": [
        {
          "output_type": "stream",
          "name": "stdout",
          "text": [
            "numbers1 is sorted in non-decreasing order.\n",
            "numbers2 is not sorted in non-decreasing order.\n"
          ]
        }
      ]
    },
    {
      "cell_type": "markdown",
      "source": [
        "17. Write a Python program to find the intersection of two lists."
      ],
      "metadata": {
        "id": "dJB2pAWuXftR"
      }
    },
    {
      "cell_type": "code",
      "source": [
        "def find_intersection(list1, list2):\n",
        "    intersection = []\n",
        "    for element in list1:\n",
        "        if element in list2 and element not in intersection:\n",
        "            intersection.append(element)\n",
        "    return intersection\n",
        "\n",
        "# Example usage:\n",
        "list1 = [1, 2, 3, 4, 5]\n",
        "list2 = [4, 5, 6, 7, 8]\n",
        "intersection = find_intersection(list1, list2)\n",
        "print(f\"The intersection of the two lists is: {intersection}\")\n"
      ],
      "metadata": {
        "colab": {
          "base_uri": "https://localhost:8080/"
        },
        "id": "Wr13KFzxXch_",
        "outputId": "c98b510b-1ea2-44f0-a263-f0e8ef1b49d4"
      },
      "execution_count": 25,
      "outputs": [
        {
          "output_type": "stream",
          "name": "stdout",
          "text": [
            "The intersection of the two lists is: [4, 5]\n"
          ]
        }
      ]
    },
    {
      "cell_type": "markdown",
      "source": [
        "18. Implement a function to find the maximum subarray sum in a given list."
      ],
      "metadata": {
        "id": "xUAaG1xNXwML"
      }
    },
    {
      "cell_type": "code",
      "source": [
        "def find_max_subarray_sum(lst):\n",
        "    max_sum = lst[0]\n",
        "    current_sum = lst[0]\n",
        "    for num in lst[1:]:\n",
        "        current_sum = max(num, current_sum + num)\n",
        "        max_sum = max(max_sum, current_sum)\n",
        "    return max_sum\n",
        "\n",
        "# Example usage:\n",
        "numbers = [-2, 1, -3, 4, -1, 2, 1, -5, 4]\n",
        "#numbers = [1,2,3]\n",
        "max_subarray_sum = find_max_subarray_sum(numbers)\n",
        "print(f\"The maximum subarray sum is: {max_subarray_sum}\")\n"
      ],
      "metadata": {
        "colab": {
          "base_uri": "https://localhost:8080/"
        },
        "id": "-PoPBY94Xiuk",
        "outputId": "4469d332-2786-41b3-f057-1267e6fbd78b"
      },
      "execution_count": 29,
      "outputs": [
        {
          "output_type": "stream",
          "name": "stdout",
          "text": [
            "The maximum subarray sum is: 6\n"
          ]
        }
      ]
    },
    {
      "cell_type": "markdown",
      "source": [
        "19. Write a program to remove all vowels from a given string.\n"
      ],
      "metadata": {
        "id": "T1U6LtvxYbfb"
      }
    },
    {
      "cell_type": "code",
      "source": [
        "def remove_vowels(string):\n",
        "    vowels = \"aeiouAEIOU\"\n",
        "    return ''.join([char for char in string if char not in vowels])\n",
        "\n",
        "# Example usage:\n",
        "string = \"Hello, World!\"\n",
        "string_without_vowels = remove_vowels(string)\n",
        "print(f\"The string without vowels is: {string_without_vowels}\")\n"
      ],
      "metadata": {
        "colab": {
          "base_uri": "https://localhost:8080/"
        },
        "id": "0pNm-SfsXwgZ",
        "outputId": "bf0d7f37-d6cc-40bf-d796-b955bec4d596"
      },
      "execution_count": 30,
      "outputs": [
        {
          "output_type": "stream",
          "name": "stdout",
          "text": [
            "The string without vowels is: Hll, Wrld!\n"
          ]
        }
      ]
    },
    {
      "cell_type": "markdown",
      "source": [
        "20. Implement a function to reverse the order of words in a given sentence.\n"
      ],
      "metadata": {
        "id": "OIS2SexbYdA1"
      }
    },
    {
      "cell_type": "code",
      "source": [
        "def reverse_words(sentence):\n",
        "    words = sentence.split()\n",
        "    reversed_words = ' '.join(reversed(words))\n",
        "    return reversed_words\n",
        "\n",
        "# Example usage:\n",
        "sentence = \"Hello, World!\"\n",
        "reversed_sentence = reverse_words(sentence)\n",
        "print(f\"The reversed sentence is: {reversed_sentence}\")\n"
      ],
      "metadata": {
        "colab": {
          "base_uri": "https://localhost:8080/"
        },
        "id": "sOuDdjWlYfEm",
        "outputId": "903a51f4-cf97-4201-c939-4b39d1e73d8c"
      },
      "execution_count": 31,
      "outputs": [
        {
          "output_type": "stream",
          "name": "stdout",
          "text": [
            "The reversed sentence is: World! Hello,\n"
          ]
        }
      ]
    },
    {
      "cell_type": "markdown",
      "source": [
        "21. Write a Python program to check if two strings are anagrams of each other.\n"
      ],
      "metadata": {
        "id": "1_zmZM0kYh1w"
      }
    },
    {
      "cell_type": "code",
      "source": [
        "def are_anagrams(str1, str2):\n",
        "    str1 = str1.lower()\n",
        "    str2 = str2.lower()\n",
        "    return sorted(str1) == sorted(str2)\n",
        "\n",
        "# Example usage:\n",
        "string1 = \"listen\"\n",
        "string2 = \"silent\"\n",
        "if are_anagrams(string1, string2):\n",
        "    print(f\"{string1} and {string2} are anagrams.\")\n",
        "else:\n",
        "    print(f\"{string1} and {string2} are not anagrams.\")\n"
      ],
      "metadata": {
        "colab": {
          "base_uri": "https://localhost:8080/"
        },
        "id": "SpyLxug-YicD",
        "outputId": "eca55904-57b8-46a0-d8c4-145e8e4840de"
      },
      "execution_count": 32,
      "outputs": [
        {
          "output_type": "stream",
          "name": "stdout",
          "text": [
            "listen and silent are anagrams.\n"
          ]
        }
      ]
    },
    {
      "cell_type": "markdown",
      "source": [
        "22. Implement a function to find the first non-repeating character in a string."
      ],
      "metadata": {
        "id": "VY-e6FdUYlIE"
      }
    },
    {
      "cell_type": "code",
      "source": [
        "def find_first_non_repeating(string):\n",
        "    char_count = {}\n",
        "    for char in string:\n",
        "        if char in char_count:\n",
        "            char_count[char] += 1\n",
        "        else:\n",
        "            char_count[char] = 1\n",
        "    for char in string:\n",
        "        if char_count[char] == 1:\n",
        "            return char\n",
        "    return None\n",
        "\n",
        "# Example usage:\n",
        "string = \"abacddbec\"\n",
        "first_non_repeating_char = find_first_non_repeating(string)\n",
        "print(f\"The first non-repeating character is: {first_non_repeating_char}\")\n"
      ],
      "metadata": {
        "colab": {
          "base_uri": "https://localhost:8080/"
        },
        "id": "HO9IXcs7YlpB",
        "outputId": "253e359b-5be1-4e27-8c0b-4220f9c6e63f"
      },
      "execution_count": 34,
      "outputs": [
        {
          "output_type": "stream",
          "name": "stdout",
          "text": [
            "The first non-repeating character is: d\n"
          ]
        }
      ]
    },
    {
      "cell_type": "markdown",
      "source": [
        "23. Write a program to find the prime factors of a given number.\n"
      ],
      "metadata": {
        "id": "wRlZdA-NYmhZ"
      }
    },
    {
      "cell_type": "code",
      "source": [
        "def prime_factors(n):\n",
        "    factors = []\n",
        "    i = 2\n",
        "    while i * i <= n:\n",
        "        if n % i:\n",
        "            i += 1\n",
        "        else:\n",
        "            n //= i\n",
        "            factors.append(i)\n",
        "    if n > 1:\n",
        "        factors.append(n)\n",
        "    return factors\n",
        "\n",
        "# Example usage:\n",
        "number = 84\n",
        "factors = prime_factors(number)\n",
        "print(f\"The prime factors of {number} are: {factors}\")\n"
      ],
      "metadata": {
        "colab": {
          "base_uri": "https://localhost:8080/"
        },
        "id": "E4YJG_wnYqr1",
        "outputId": "6cf2bda4-0374-43fc-811c-282174ff9c56"
      },
      "execution_count": 35,
      "outputs": [
        {
          "output_type": "stream",
          "name": "stdout",
          "text": [
            "The prime factors of 84 are: [2, 2, 3, 7]\n"
          ]
        }
      ]
    },
    {
      "cell_type": "markdown",
      "source": [
        "24. Implement a function to check if a given number is a power of two.\n"
      ],
      "metadata": {
        "id": "mQuCFu0RYrav"
      }
    },
    {
      "cell_type": "code",
      "source": [
        "def is_power_of_two(n):\n",
        "    if n <= 0:\n",
        "        return False\n",
        "    while n % 2 == 0:\n",
        "        n //= 2\n",
        "    return n == 1\n",
        "\n",
        "# Example usage:\n",
        "number = 16\n",
        "if is_power_of_two(number):\n",
        "    print(f\"{number} is a power of two.\")\n",
        "else:\n",
        "    print(f\"{number} is not a power of two.\")\n"
      ],
      "metadata": {
        "colab": {
          "base_uri": "https://localhost:8080/"
        },
        "id": "Uf97zDAbYt99",
        "outputId": "d6138c66-d822-429b-f2ae-7c65648a97f0"
      },
      "execution_count": 36,
      "outputs": [
        {
          "output_type": "stream",
          "name": "stdout",
          "text": [
            "16 is a power of two.\n"
          ]
        }
      ]
    },
    {
      "cell_type": "markdown",
      "source": [
        "25. Write a Python program to merge two sorted lists into a single sorted list.\n"
      ],
      "metadata": {
        "id": "ZeUmdxHUYuly"
      }
    },
    {
      "cell_type": "code",
      "source": [
        "def merge_sorted_lists(list1, list2):\n",
        "    merged_list = []\n",
        "    i = 0\n",
        "    j = 0\n",
        "    while i < len(list1) and j < len(list2):\n",
        "        if list1[i] <= list2[j]:\n",
        "            merged_list.append(list1[i])\n",
        "            i += 1\n",
        "        else:\n",
        "            merged_list.append(list2[j])\n",
        "            j += 1\n",
        "    merged_list.extend(list1[i:])\n",
        "    merged_list.extend(list2[j:])\n",
        "    return merged_list\n",
        "\n",
        "# Example usage:\n",
        "list1 = [1, 3, 5, 7]\n",
        "list2 = [2, 4, 6, 8]\n",
        "merged_list = merge_sorted_lists(list1, list2)\n",
        "print(f\"The merged list is: {merged_list}\")\n"
      ],
      "metadata": {
        "colab": {
          "base_uri": "https://localhost:8080/"
        },
        "id": "1-aWr7lDYvOA",
        "outputId": "c2a20def-15c7-4cc1-fc9c-3f4351569129"
      },
      "execution_count": 37,
      "outputs": [
        {
          "output_type": "stream",
          "name": "stdout",
          "text": [
            "The merged list is: [1, 2, 3, 4, 5, 6, 7, 8]\n"
          ]
        }
      ]
    },
    {
      "cell_type": "markdown",
      "source": [
        "26. Implement a function to find the mode of a list of numbers.\n"
      ],
      "metadata": {
        "id": "JyqzQguiYyh6"
      }
    },
    {
      "cell_type": "code",
      "source": [
        "def find_mode(lst):\n",
        "    count = {}\n",
        "    for num in lst:\n",
        "        if num in count:\n",
        "            count[num] += 1\n",
        "        else:\n",
        "            count[num] = 1\n",
        "    max_count = max(count.values())\n",
        "    mode = [k for k, v in count.items() if v == max_count]\n",
        "    return mode\n",
        "\n",
        "# Example usage:\n",
        "numbers = [1, 2, 3, 2, 1, 3, 1, 1, 2]\n",
        "mode = find_mode(numbers)\n",
        "print(f\"The mode of the list is: {mode}\")\n"
      ],
      "metadata": {
        "colab": {
          "base_uri": "https://localhost:8080/"
        },
        "id": "e5jzCEtwY0LO",
        "outputId": "9d40fc23-d5bc-4ee3-d014-79d267c4f5fe"
      },
      "execution_count": 38,
      "outputs": [
        {
          "output_type": "stream",
          "name": "stdout",
          "text": [
            "The mode of the list is: [1]\n"
          ]
        }
      ]
    },
    {
      "cell_type": "markdown",
      "source": [
        "27. Write a program to find the greatest common divisor (GCD) of two numbers.\n"
      ],
      "metadata": {
        "id": "PdA1pXoRY0wp"
      }
    },
    {
      "cell_type": "code",
      "source": [
        "def gcd(a, b):\n",
        "    while b:\n",
        "        a, b = b, a % b\n",
        "    return a\n",
        "\n",
        "# Example usage:\n",
        "num1 = 24\n",
        "num2 = 36\n",
        "gcd_result = gcd(num1, num2)\n",
        "print(f\"The GCD of {num1} and {num2} is: {gcd_result}\")\n"
      ],
      "metadata": {
        "colab": {
          "base_uri": "https://localhost:8080/"
        },
        "id": "X_wXQqw4Y2bU",
        "outputId": "db24d965-d907-4fdc-fcff-14fc6044cc0e"
      },
      "execution_count": 39,
      "outputs": [
        {
          "output_type": "stream",
          "name": "stdout",
          "text": [
            "The GCD of 24 and 36 is: 12\n"
          ]
        }
      ]
    },
    {
      "cell_type": "markdown",
      "source": [
        "28. Implement a function to calculate the square root of a given number.\n",
        "\n"
      ],
      "metadata": {
        "id": "NOO-nNiYY21t"
      }
    },
    {
      "cell_type": "code",
      "source": [
        "import numpy as np\n",
        "\n",
        "def square_root(n):\n",
        "\n",
        "    return np.sqrt(n)\n",
        "\n",
        "# Example usage:\n",
        "number = 16\n",
        "sqrt = square_root(number)\n",
        "print(f\"The square root of {number} is: {sqrt}\")\n"
      ],
      "metadata": {
        "colab": {
          "base_uri": "https://localhost:8080/"
        },
        "id": "IUj2yw2zY4ai",
        "outputId": "8bb4c973-8441-4792-df41-e53515eb3d8a"
      },
      "execution_count": 41,
      "outputs": [
        {
          "output_type": "stream",
          "name": "stdout",
          "text": [
            "The square root of 16 is: 4.0\n"
          ]
        }
      ]
    },
    {
      "cell_type": "markdown",
      "source": [
        "29. Write a Python program to check if a given string is a valid palindrome ignoring non-alphanumeric characters.\n"
      ],
      "metadata": {
        "id": "Ni-yOVKKY439"
      }
    },
    {
      "cell_type": "code",
      "source": [
        "def is_valid_palindrome(string):\n",
        "    alphanumeric = ''.join(char for char in string if char.isalnum())\n",
        "    alphanumeric = alphanumeric.lower()\n",
        "    return alphanumeric == alphanumeric[::-1]\n",
        "\n",
        "# Example usage:\n",
        "string = \"A man, a plan, a canal: Panama\"\n",
        "if is_valid_palindrome(string):\n",
        "    print(f\"{string} is a valid palindrome.\")\n",
        "else:\n",
        "    print(f\"{string} is not a valid palindrome.\")\n"
      ],
      "metadata": {
        "colab": {
          "base_uri": "https://localhost:8080/"
        },
        "id": "2az-JjcDY6ZE",
        "outputId": "f6fb81dd-2df3-4313-f680-854507bb255b"
      },
      "execution_count": 42,
      "outputs": [
        {
          "output_type": "stream",
          "name": "stdout",
          "text": [
            "A man, a plan, a canal: Panama is a valid palindrome.\n"
          ]
        }
      ]
    },
    {
      "cell_type": "markdown",
      "source": [
        "30. Implement a function to find the minimum element in a rotated sorted list."
      ],
      "metadata": {
        "id": "F_kEUPHhY7E7"
      }
    },
    {
      "cell_type": "code",
      "source": [
        "def find_min_element(lst):\n",
        "    low = 0\n",
        "    high = len(lst) - 1\n",
        "    while low < high:\n",
        "        mid = (low + high) // 2\n",
        "        if lst[mid] > lst[high]:\n",
        "            low = mid + 1\n",
        "        else:\n",
        "            high = mid\n",
        "    return lst[low]\n",
        "\n",
        "# Example usage:\n",
        "numbers = [4, 5, 6, 7, 0, 1, 2]\n",
        "min_element = find_min_element(numbers)\n",
        "print(f\"The minimum element in the list is: {min_element}\")\n"
      ],
      "metadata": {
        "colab": {
          "base_uri": "https://localhost:8080/"
        },
        "id": "6crcFW6EY7r-",
        "outputId": "7988f7d2-5c03-476a-801a-1ddd5e22d517"
      },
      "execution_count": 43,
      "outputs": [
        {
          "output_type": "stream",
          "name": "stdout",
          "text": [
            "The minimum element in the list is: 0\n"
          ]
        }
      ]
    },
    {
      "cell_type": "markdown",
      "source": [
        "31. Write a program to find the sum of all even numbers in a list.\n"
      ],
      "metadata": {
        "id": "-nRXGTXRlfGB"
      }
    },
    {
      "cell_type": "code",
      "source": [
        "def sum_of_evens(lst):\n",
        "    return sum(num for num in lst if num % 2 == 0)\n",
        "\n",
        "# Example usage:\n",
        "numbers = [1, 2, 3, 4, 5, 6]\n",
        "sum_of_evens = sum_of_evens(numbers)\n",
        "print(f\"The sum of even numbers is: {sum_of_evens}\")\n"
      ],
      "metadata": {
        "colab": {
          "base_uri": "https://localhost:8080/"
        },
        "id": "-y1zxBjJlTbV",
        "outputId": "343fe070-eae9-4124-9079-48cab8736a85"
      },
      "execution_count": 44,
      "outputs": [
        {
          "output_type": "stream",
          "name": "stdout",
          "text": [
            "The sum of even numbers is: 12\n"
          ]
        }
      ]
    },
    {
      "cell_type": "markdown",
      "source": [
        "32. Implement a function to calculate the power of a number using recursion.\n",
        "\n"
      ],
      "metadata": {
        "id": "4wW9xGbtliI8"
      }
    },
    {
      "cell_type": "code",
      "source": [
        "def power(base, exponent):\n",
        "    if exponent == 0:\n",
        "        return 1\n",
        "    return base * power(base, exponent - 1)\n",
        "\n",
        "# Example usage:\n",
        "base = 2\n",
        "exponent = 3\n",
        "result = power(base, exponent)\n",
        "print(f\"{base} raised to the power of {exponent} is: {result}\")\n"
      ],
      "metadata": {
        "colab": {
          "base_uri": "https://localhost:8080/"
        },
        "id": "DIwhWTz6lkSL",
        "outputId": "45a13864-0af3-406c-92b1-7f3d209c2e3b"
      },
      "execution_count": 45,
      "outputs": [
        {
          "output_type": "stream",
          "name": "stdout",
          "text": [
            "2 raised to the power of 3 is: 8\n"
          ]
        }
      ]
    },
    {
      "cell_type": "markdown",
      "source": [
        "33. Write a Python program to remove duplicates from a list while preserving the order.\n"
      ],
      "metadata": {
        "id": "6TXhOdIRliFj"
      }
    },
    {
      "cell_type": "code",
      "source": [
        "def remove_duplicates(lst):\n",
        "    unique_list = []\n",
        "    for element in lst:\n",
        "        if element not in unique_list:\n",
        "            unique_list.append(element)\n",
        "    return unique_list\n",
        "\n",
        "# Example usage:\n",
        "numbers = [1, 2, 3, 2, 1, 3, 1, 1, 2]\n",
        "unique_numbers = remove_duplicates(numbers)\n",
        "print(unique_numbers)  # Output: [1, 2, 3]\n"
      ],
      "metadata": {
        "colab": {
          "base_uri": "https://localhost:8080/"
        },
        "id": "DpFQB5Qqll9V",
        "outputId": "15f0a0c9-9b1b-410a-9d91-ea1359ef1804"
      },
      "execution_count": 46,
      "outputs": [
        {
          "output_type": "stream",
          "name": "stdout",
          "text": [
            "[1, 2, 3]\n"
          ]
        }
      ]
    },
    {
      "cell_type": "markdown",
      "source": [
        "34. Implement a function to find the longest common prefix among a list of strings.\n"
      ],
      "metadata": {
        "id": "3UubPnKjlm5p"
      }
    },
    {
      "cell_type": "code",
      "source": [
        "def longest_common_prefix(strings):\n",
        "    if not strings:\n",
        "        return \"\"\n",
        "    prefix = strings[0]\n",
        "    for string in strings[1:]:\n",
        "        while not string.startswith(prefix):\n",
        "            prefix = prefix[:-1]\n",
        "            if not prefix:\n",
        "                return \"\"\n",
        "    return prefix\n",
        "\n",
        "# Example usage:\n",
        "strings = [\"flower\", \"flow\", \"flight\"]\n",
        "common_prefix = longest_common_prefix(strings)\n",
        "print(f\"The longest common prefix is: {common_prefix}\")\n"
      ],
      "metadata": {
        "colab": {
          "base_uri": "https://localhost:8080/"
        },
        "id": "V8ftQU7CloRT",
        "outputId": "9a9770d7-4481-41d2-8a64-99967b415036"
      },
      "execution_count": 47,
      "outputs": [
        {
          "output_type": "stream",
          "name": "stdout",
          "text": [
            "The longest common prefix is: fl\n"
          ]
        }
      ]
    },
    {
      "cell_type": "markdown",
      "source": [
        "35. Write a program to check if a given number is a perfect square.\n"
      ],
      "metadata": {
        "id": "2ZlgvqrplotP"
      }
    },
    {
      "cell_type": "code",
      "source": [
        "def is_perfect_square(n):\n",
        "    if n < 0:\n",
        "        return False\n",
        "    if n == 0 or n == 1:\n",
        "        return True\n",
        "    left = 1\n",
        "    right = n // 2\n",
        "    while left <= right:\n",
        "        mid = (left + right) // 2\n",
        "        if mid * mid == n:\n",
        "            return True\n",
        "        elif mid * mid < n:\n",
        "            left = mid + 1\n",
        "        else:\n",
        "            right = mid - 1\n",
        "    return False\n",
        "\n",
        "# Example usage:\n",
        "number = 16\n",
        "if is_perfect_square(number):\n",
        "    print(f\"{number} is a perfect square.\")\n",
        "else:\n",
        "    print(f\"{number} is not a perfect square.\")\n"
      ],
      "metadata": {
        "colab": {
          "base_uri": "https://localhost:8080/"
        },
        "id": "h6ZspVXRlqs1",
        "outputId": "426be25f-deac-413d-b9c4-1c50848bd309"
      },
      "execution_count": 48,
      "outputs": [
        {
          "output_type": "stream",
          "name": "stdout",
          "text": [
            "16 is a perfect square.\n"
          ]
        }
      ]
    },
    {
      "cell_type": "markdown",
      "source": [
        "36. Implement a function to calculate the product of all elements in a list.\n"
      ],
      "metadata": {
        "id": "DrlQl3s4lrLf"
      }
    },
    {
      "cell_type": "code",
      "source": [
        "def product_of_elements(lst):\n",
        "    if not lst:\n",
        "        return 0\n",
        "    product = 1\n",
        "    for num in lst:\n",
        "        product *= num\n",
        "    return product\n",
        "\n",
        "# Example usage:\n",
        "numbers = [1, 2, 3, 4, 5]\n",
        "product = product_of_elements(numbers)\n",
        "print(f\"The product of elements is: {product}\")\n"
      ],
      "metadata": {
        "colab": {
          "base_uri": "https://localhost:8080/"
        },
        "id": "nACvGW5hlsow",
        "outputId": "7b598a24-d896-4f2c-f77b-db1835ce3940"
      },
      "execution_count": 49,
      "outputs": [
        {
          "output_type": "stream",
          "name": "stdout",
          "text": [
            "The product of elements is: 120\n"
          ]
        }
      ]
    },
    {
      "cell_type": "markdown",
      "source": [
        "37. Write a Python program to reverse the order of words in a sentence while preserving the word order.\n"
      ],
      "metadata": {
        "id": "b1fzZsdNltLI"
      }
    },
    {
      "cell_type": "code",
      "source": [
        "def reverse_words(sentence):\n",
        "    words = sentence.split()\n",
        "    reversed_sentence = ' '.join(reversed(words))\n",
        "    return reversed_sentence\n",
        "\n",
        "# Example usage:\n",
        "sentence = \"Hello, World!\"\n",
        "reversed_sentence = reverse_words(sentence)\n",
        "print(f\"The reversed sentence is: {reversed_sentence}\")\n"
      ],
      "metadata": {
        "colab": {
          "base_uri": "https://localhost:8080/"
        },
        "id": "uk64JJWdlvMN",
        "outputId": "79570eb8-88e6-4f6f-f786-21bb73741b63"
      },
      "execution_count": 50,
      "outputs": [
        {
          "output_type": "stream",
          "name": "stdout",
          "text": [
            "The reversed sentence is: World! Hello,\n"
          ]
        }
      ]
    },
    {
      "cell_type": "markdown",
      "source": [
        "38. Implement a function to find the missing number in a given list of consecutive numbers.\n"
      ],
      "metadata": {
        "id": "mOqB5wtwlvub"
      }
    },
    {
      "cell_type": "code",
      "source": [
        "def find_missing_number(lst):\n",
        "    n = len(lst) + 1\n",
        "    expected_sum = (n * (n + 1)) // 2\n",
        "    actual_sum = sum(lst)\n",
        "    return expected_sum - actual_sum\n",
        "\n",
        "# Example usage:\n",
        "numbers = [1, 2, 3, 5, 6]\n",
        "missing_number = find_missing_number(numbers)\n",
        "print(f\"The missing number is: {missing_number}\")\n"
      ],
      "metadata": {
        "colab": {
          "base_uri": "https://localhost:8080/"
        },
        "id": "xi7uggthlxcc",
        "outputId": "2f69f0ce-1743-45bd-db5c-36bb69a8112e"
      },
      "execution_count": 51,
      "outputs": [
        {
          "output_type": "stream",
          "name": "stdout",
          "text": [
            "The missing number is: 4\n"
          ]
        }
      ]
    },
    {
      "cell_type": "markdown",
      "source": [
        "39. Write a program to find the sum of digits of a given number."
      ],
      "metadata": {
        "id": "isgirg1Rlx_f"
      }
    },
    {
      "cell_type": "code",
      "source": [
        "def sum_of_digits(n):\n",
        "    total = 0\n",
        "    while n > 0:\n",
        "        total += n % 10\n",
        "        n //= 10\n",
        "    return total\n",
        "\n",
        "# Example usage:\n",
        "number = 12345\n",
        "digit_sum = sum_of_digits(number)\n",
        "print(f\"The sum of digits is: {digit_sum}\")\n"
      ],
      "metadata": {
        "colab": {
          "base_uri": "https://localhost:8080/"
        },
        "id": "H55yyzmVlyfB",
        "outputId": "46005656-0fae-4274-d1ec-b34e730f9e2e"
      },
      "execution_count": 52,
      "outputs": [
        {
          "output_type": "stream",
          "name": "stdout",
          "text": [
            "The sum of digits is: 15\n"
          ]
        }
      ]
    },
    {
      "cell_type": "markdown",
      "source": [
        "40. Implement a function to check if a given string is a valid palindrome considering case sensitivity.\n",
        "\n"
      ],
      "metadata": {
        "id": "8G1UENaFq6tm"
      }
    },
    {
      "cell_type": "code",
      "source": [
        "def is_valid_palindrome(string):\n",
        "    return string == string[::-1]\n",
        "\n",
        "# Example usage:\n",
        "string = \"Madam\"\n",
        "if is_valid_palindrome(string):\n",
        "    print(f\"{string} is a valid palindrome.\")\n",
        "else:\n",
        "    print(f\"{string} is not a valid palindrome.\")\n"
      ],
      "metadata": {
        "colab": {
          "base_uri": "https://localhost:8080/"
        },
        "id": "gaJ2hBOyqcLj",
        "outputId": "2eedf303-cd7e-40f4-9384-e706dae5845b"
      },
      "execution_count": 53,
      "outputs": [
        {
          "output_type": "stream",
          "name": "stdout",
          "text": [
            "Madam is not a valid palindrome.\n"
          ]
        }
      ]
    },
    {
      "cell_type": "markdown",
      "source": [
        "41. Write a Python program to find the smallest missing positive integer in a list.\n"
      ],
      "metadata": {
        "id": "7Yj2-a52q8xM"
      }
    },
    {
      "cell_type": "code",
      "source": [
        "def find_smallest_missing_positive(lst):\n",
        "    positive_numbers = set([num for num in lst if num > 0])\n",
        "    i = 1\n",
        "    while i in positive_numbers:\n",
        "        i += 1\n",
        "    return i\n",
        "\n",
        "# Example usage:\n",
        "numbers = [3, 4, -1, 1]\n",
        "smallest_missing = find_smallest_missing_positive(numbers)\n",
        "print(f\"The smallest missing positive integer is: {smallest_missing}\")\n"
      ],
      "metadata": {
        "colab": {
          "base_uri": "https://localhost:8080/"
        },
        "id": "vT4c9STsq-fU",
        "outputId": "7f8ec57a-17e9-47b3-d487-e38598cc8408"
      },
      "execution_count": 54,
      "outputs": [
        {
          "output_type": "stream",
          "name": "stdout",
          "text": [
            "The smallest missing positive integer is: 2\n"
          ]
        }
      ]
    },
    {
      "cell_type": "markdown",
      "source": [
        "42. Implement a function to find the longest palindrome substring in a given string.\n"
      ],
      "metadata": {
        "id": "nWOhi2vPq-7t"
      }
    },
    {
      "cell_type": "code",
      "source": [
        "def longest_palindrome_substring(string):\n",
        "    longest = \"\"\n",
        "    for i in range(len(string)):\n",
        "        for j in range(i, len(string)):\n",
        "            substring = string[i:j+1]\n",
        "            if substring == substring[::-1] and len(substring) > len(longest):\n",
        "                longest = substring\n",
        "    return longest\n",
        "\n",
        "# Example usage:\n",
        "string = \"babad\"\n",
        "longest_palindrome = longest_palindrome_substring(string)\n",
        "print(f\"The longest palindrome substring is: {longest_palindrome}\")\n"
      ],
      "metadata": {
        "colab": {
          "base_uri": "https://localhost:8080/"
        },
        "id": "s6wlBVmFrAoL",
        "outputId": "f9269290-1fd3-46c3-e72a-0b84943936dc"
      },
      "execution_count": 55,
      "outputs": [
        {
          "output_type": "stream",
          "name": "stdout",
          "text": [
            "The longest palindrome substring is: bab\n"
          ]
        }
      ]
    },
    {
      "cell_type": "markdown",
      "source": [
        "43. Write a program to find the number of occurrences of a given element in a list.\n"
      ],
      "metadata": {
        "id": "2XlyGjRCrBKs"
      }
    },
    {
      "cell_type": "code",
      "source": [
        "def count_occurrences(lst, element):\n",
        "    count = 0\n",
        "    for item in lst:\n",
        "        if item == element:\n",
        "            count += 1\n",
        "    return count\n",
        "\n",
        "# Example usage:\n",
        "numbers = [1, 2, 3, 2, 1, 3, 1, 1, 2]\n",
        "element = 1\n",
        "occurrences = count_occurrences(numbers, element)\n",
        "print(f\"The number of occurrences of {element} is: {occurrences}\")\n"
      ],
      "metadata": {
        "colab": {
          "base_uri": "https://localhost:8080/"
        },
        "id": "91lBEeqZrDEa",
        "outputId": "312aee56-4fca-497c-ff84-2019a5a3a547"
      },
      "execution_count": 56,
      "outputs": [
        {
          "output_type": "stream",
          "name": "stdout",
          "text": [
            "The number of occurrences of 1 is: 4\n"
          ]
        }
      ]
    },
    {
      "cell_type": "markdown",
      "source": [
        "44. Implement a function to check if a given number is a perfect number.\n"
      ],
      "metadata": {
        "id": "6gmvD0dyrDq0"
      }
    },
    {
      "cell_type": "code",
      "source": [
        "def is_perfect_number(n):\n",
        "    if n <= 0:\n",
        "        return False\n",
        "    divisors = []\n",
        "    for i in range(1, int(n**0.5) + 1):\n",
        "        if n % i == 0:\n",
        "            divisors.append(i)\n",
        "            if i != n // i:\n",
        "                divisors.append(n // i)\n",
        "    return sum(divisors) == 2 * n\n",
        "\n",
        "# Example usage:\n",
        "number = 28\n",
        "if is_perfect_number(number):\n",
        "    print(f\"{number} is a perfect number.\")\n",
        "else:\n",
        "    print(f\"{number} is not a perfect number.\")\n"
      ],
      "metadata": {
        "colab": {
          "base_uri": "https://localhost:8080/"
        },
        "id": "CkJBWN07rEzz",
        "outputId": "ec7bb43d-fe56-429c-dc29-6b7ae1f11c9b"
      },
      "execution_count": 57,
      "outputs": [
        {
          "output_type": "stream",
          "name": "stdout",
          "text": [
            "28 is a perfect number.\n"
          ]
        }
      ]
    },
    {
      "cell_type": "markdown",
      "source": [
        "45. Write a Python program to remove all duplicates from a string.\n"
      ],
      "metadata": {
        "id": "aEGis2jWrFQ4"
      }
    },
    {
      "cell_type": "code",
      "source": [
        "def remove_duplicates(string):\n",
        "    return ''.join(set(string))\n",
        "\n",
        "# Example usage:\n",
        "string = \"Hello, World!\"\n",
        "string_without_duplicates = remove_duplicates(string)\n",
        "print(f\"The string without duplicates is: {string_without_duplicates}\")\n"
      ],
      "metadata": {
        "colab": {
          "base_uri": "https://localhost:8080/"
        },
        "id": "A6X0MEDorIV4",
        "outputId": "7db99913-b4d3-4fce-ff44-b85cf09153ce"
      },
      "execution_count": 58,
      "outputs": [
        {
          "output_type": "stream",
          "name": "stdout",
          "text": [
            "The string without duplicates is: !Hdeor,lW \n"
          ]
        }
      ]
    },
    {
      "cell_type": "markdown",
      "source": [
        "46. Implement a function to find the first missing positive"
      ],
      "metadata": {
        "id": "5_951ovUrIzO"
      }
    },
    {
      "cell_type": "code",
      "source": [
        "def find_first_missing_positive(lst):\n",
        "    if not lst:\n",
        "        return 1\n",
        "    n = len(lst)\n",
        "    for i in range(1, n + 2):\n",
        "        if i not in lst:\n",
        "            return i\n",
        "\n",
        "# Example usage:\n",
        "numbers = [3, 4, -1, 1]\n",
        "first_missing = find_first_missing_positive(numbers)\n",
        "print(f\"The first missing positive integer is: {first_missing}\")\n"
      ],
      "metadata": {
        "colab": {
          "base_uri": "https://localhost:8080/"
        },
        "id": "KoBA2NqrrJZP",
        "outputId": "5010b1b9-9f11-4179-c9bc-654131521d70"
      },
      "execution_count": 59,
      "outputs": [
        {
          "output_type": "stream",
          "name": "stdout",
          "text": [
            "The first missing positive integer is: 2\n"
          ]
        }
      ]
    },
    {
      "cell_type": "code",
      "source": [],
      "metadata": {
        "id": "F-plPhZQsHQm"
      },
      "execution_count": null,
      "outputs": []
    }
  ]
}